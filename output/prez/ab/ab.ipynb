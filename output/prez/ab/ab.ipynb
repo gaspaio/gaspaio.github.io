{
 "cells": [
  {
   "cell_type": "markdown",
   "metadata": {
    "slideshow": {
     "slide_type": "slide"
    }
   },
   "source": [
    "# Mieux faire parler les tests AB\n",
    "### Quelques outils de Data-Science pour améliorer les tests AB\n",
    "#### Rodolfo Ripado || Pizza Party Octobre 2015\n",
    "\n"
   ]
  },
  {
   "cell_type": "markdown",
   "metadata": {
    "slideshow": {
     "slide_type": "slide"
    }
   },
   "source": [
    "# Comment fait-on un test AB ?\n",
    "\n",
    "1. On implémente deux variantes de la même fonctionnalité\n",
    "2. On expose chacune à _une partie_ des visiteurs du site, pendant _un certain temps_\n",
    "3. On _calcule_ le taux de conversion de chacune des variantes\n",
    "4. On abandonne la moins performante"
   ]
  },
  {
   "cell_type": "markdown",
   "metadata": {
    "slideshow": {
     "slide_type": "slide"
    }
   },
   "source": [
    "# Un test AB est ...\n",
    "\n",
    "* Un technique de conception de fonctionnalités web\n",
    "* Un exemple de processus de décision \"data-driven\"\n",
    "* Un outil pour optimiser **localement** des éléments des pages web"
   ]
  },
  {
   "cell_type": "markdown",
   "metadata": {
    "slideshow": {
     "slide_type": "slide"
    }
   },
   "source": [
    "# Qu'est-ce qu'un taux de conversion ?\n",
    "\n",
    "> Si on pouvait exposer la fonctionnalité à TOUS les visiteurs potentiels du site, ce serait le pourcentage de visiteus qui convertiraient\n",
    "\n",
    "* Impossible à calculer exactement\n",
    "* Une propriété fantasmée de la fonctionnalité testée"
   ]
  },
  {
   "cell_type": "markdown",
   "metadata": {
    "slideshow": {
     "slide_type": "slide"
    }
   },
   "source": [
    "# Que calcule-t-on donc ?\n",
    "\n",
    "* Une **estimation** du vrai taux de conversion, à partir d'un échantillon\n",
    "* Si on répète le test avec un autre échantillon :\n",
    "  * On n'aura pas exactement le même résultat !\n",
    "  * On aura, au mieux, *à peu près* le même résultat\n",
    "  \n",
    "C'est le hazard !"
   ]
  },
  {
   "cell_type": "markdown",
   "metadata": {
    "slideshow": {
     "slide_type": "slide"
    }
   },
   "source": [
    "# La question maintenant est ...\n",
    "\n",
    "- Comment calcule-t-on le *vrai* taux de conversion ? Est-ce possible ?\n",
    "- Peut-on au moins avoir une fourchette de valeurs possibles ?"
   ]
  },
  {
   "cell_type": "markdown",
   "metadata": {
    "slideshow": {
     "slide_type": "slide"
    }
   },
   "source": [
    "_c'est un job pour ..._"
   ]
  },
  {
   "cell_type": "markdown",
   "metadata": {
    "slideshow": {
     "slide_type": "slide"
    }
   },
   "source": [
    "![super stats](images/ss.jpg)"
   ]
  },
  {
   "cell_type": "markdown",
   "metadata": {
    "slideshow": {
     "slide_type": "slide"
    }
   },
   "source": [
    "# La théorie des probabilités\n",
    "\n",
    "Description non déterministe du monde.\n",
    "\n",
    "Si on veut prédire le lancer d'une pièce de monnaie :\n",
    "* Explication déterministe : \n",
    "  > On étudie l'ensemble de lois physiques qui nous diront pourquoi nous aura _pile_ ou _face_.\n",
    "* Explication probabiliste :\n",
    "\n",
    "  > Je ne sais pas si je vais avoir pile ou face.\n",
    "  > Mais ... \n",
    "  > Je sais que si je répète l'expérience assez de fois, j'aurai 50% de _piles_ et 50% de _faces_."
   ]
  },
  {
   "cell_type": "markdown",
   "metadata": {
    "slideshow": {
     "slide_type": "slide"
    }
   },
   "source": [
    "# La théorie des probabilités\n",
    "\n",
    "* Les événements sont décrit non par par des lois physiques, mais par des lois de probabilité\n",
    "* Description du monde qui quantifie notre incertitude\n",
    "* Probabilité : fréquence d'un résultat donné\n",
    "\n",
    "> \"La probabilité d'avoir _pile_ est de 50%\" \n",
    "> \n",
    "> = \n",
    "> \n",
    "> \"Si je répète l'expérience assez de fois, j'aurai 50% de _piles_\"."
   ]
  },
  {
   "cell_type": "markdown",
   "metadata": {
    "slideshow": {
     "slide_type": "slide"
    }
   },
   "source": [
    "# Qu'est-ce qu'un taux de conversion, probabilistiquement parlant ...\n",
    "\n",
    "Quand on estime un taux de conversion d'un bouton, la situation est la suivante :\n",
    "* Population : tous les visiteurs du site LeMonde - $N$\n",
    "* Nombre $X$ de succès : partie de la population qui cliquerait sur le bouton, si tout le monde le voyait\n",
    "* Le vrai taux de conversion : $p = \\frac{X}{N}$\n",
    "* $p$ est un __paramètre__ de la population.\n",
    "\n",
    "Ce vrai taux est impossible à calculer ! Il est une fiction !"
   ]
  },
  {
   "cell_type": "markdown",
   "metadata": {
    "slideshow": {
     "slide_type": "slide"
    }
   },
   "source": [
    "# Estimer un taux de conversion\n",
    "\n",
    "Pour estimer ce taux, on fait une expérience :\n",
    "* On prend un échantillon aléatoire de la population - $n$\n",
    "* On présente le bouton à cet échantillon, $x$ personnes cliquent\n",
    "* On calcule une estimation : $\\hat p = \\frac{x}{n}$\n",
    "* $\\hat p$ est un __estimateur__ de $p$\n",
    "\n",
    "Nous sommes dans le domaine de l'**inférence statistique**"
   ]
  },
  {
   "cell_type": "markdown",
   "metadata": {
    "slideshow": {
     "slide_type": "slide"
    }
   },
   "source": [
    "# Quelques faits de la nature ...\n",
    "\n",
    "![p hat variations](images/clt1.png)\n",
    "* Si on répète l'expérience, $\\hat p$ n'aura pas la même valeur !\n",
    "* Au mieux, $\\hat p$ s'approche de $p$, $\\hat p$ est __à peu près__ $p$ :\n",
    "  * $\\hat p$ est centrée autour de $p$\n",
    "  * Elle a un certain \"bruit\"\n",
    "  \n",
    "Quelle est la loi de probabilité de $\\hat p$ ? i.e. Comment la valeur de $\\hat p$ varie-t-elle ?"
   ]
  },
  {
   "cell_type": "markdown",
   "metadata": {
    "slideshow": {
     "slide_type": "slide"
    }
   },
   "source": [
    "# Ce serait un peu long à expliquer mais ...\n",
    "\n",
    "### <center> $\\hat p \\sim N(p, \\sigma_{\\hat p})$, $\\sigma_{\\hat p} = \\sqrt{\\frac{\\hat p(1 - \\hat p)}{n}}$</center>\n",
    "\n",
    "Autrement dit : ** On connaît la loi de probabilité de notre estimation **\n",
    "\n",
    "![p hat variations](images/clt1.png)"
   ]
  },
  {
   "cell_type": "markdown",
   "metadata": {
    "slideshow": {
     "slide_type": "slide"
    }
   },
   "source": [
    "Intervalles de confiance\n",
    "\n",
    "* Une fourchette de valeurs \"probables\" pour $p$, étant donné $\\hat p$ :\n",
    "\n",
    "\n",
    "### $$ p \\in \\left[\\hat p - 1.96 \\cdot \\sigma_{\\hat p},  \\hat p + 1.96 \\cdot \\sigma_{\\hat p}\\right] $$\n",
    "\n",
    "* Ceci est l'intervalle de confiance à 95% : \n",
    "\n",
    "  **\"Il y a 95% de probabilité que cet intervalle contienne le vrai paramètre _p_\"**"
   ]
  },
  {
   "cell_type": "markdown",
   "metadata": {
    "slideshow": {
     "slide_type": "slide"
    }
   },
   "source": [
    "# Et donc \n",
    "\n",
    "Au lieu de dire :\n",
    "\n",
    "* **\"D'après mon test, le taux de conversion du bouton est de 0.02\"**\n",
    "\n",
    "On peut maintenant dire :\n",
    "\n",
    "* **\"D'après mon test, le taux de conversion du bouton est entre 0.01 et 0.03, avec 95% de certitude\"**"
   ]
  },
  {
   "cell_type": "markdown",
   "metadata": {
    "slideshow": {
     "slide_type": "slide"
    }
   },
   "source": [
    "# Pourquoi c'est important ...\n",
    "\n",
    "On ne prend pas les mêmes décisions dans ces deux cas :\n",
    "* $\\hat p = 0.02$ et $p \\in [0.0002, 0.038]$ \n",
    "![Comparez les variantes](images/ABvars4.png)\n",
    "\n",
    "* $\\hat p = 0.02$ et $p \\in [0.018, 0.022]$\n",
    "![Comparez les variantes](images/ABvars3.png)"
   ]
  },
  {
   "cell_type": "markdown",
   "metadata": {
    "slideshow": {
     "slide_type": "slide"
    }
   },
   "source": [
    "# Un petit exercice ...\n",
    "\n",
    "Supposez que vous faîtes un test AB, et vous obtenez le résultat suivant :\n",
    "\n",
    "* Variante A : $ \\hat p_A = 0.2 $ \n",
    "* Variante B : $ \\hat p_B = 0.25 $\n",
    "\n",
    "Quelle variante choisissez-vous ?"
   ]
  },
  {
   "cell_type": "markdown",
   "metadata": {
    "slideshow": {
     "slide_type": "slide"
    }
   },
   "source": [
    "Et si vous calculez les intervalles de confiance suivants ?\n",
    "\n",
    "* Variante A : $ \\hat p_A = 0.2 $, et $p_A \\in [0.01, 0.39]$\n",
    " \n",
    "* Variante B : $ \\hat p_B = 0.25 $, et $p_B \\in [0.2, 0.3]$\n",
    "\n",
    "![Comparez les variantes](images/ABvars1.png)\n",
    "\n",
    "Quelle variante choisissez-vous ?"
   ]
  },
  {
   "cell_type": "markdown",
   "metadata": {
    "slideshow": {
     "slide_type": "slide"
    }
   },
   "source": [
    "Et maintenant ?\n",
    "\n",
    "* Variante A : $ \\hat p_A = 0.2 $, et $p_A \\in [0.18, 0.22]$ \n",
    "* Variante B : $ \\hat p_B = 0.25 $, et $p_B \\in [0.22, 0.28]$\n",
    "\n",
    "![Comparez les variantes](images/ABvars2.png)\n",
    "\n",
    "Quelle variante choisissez-vous ?"
   ]
  },
  {
   "cell_type": "markdown",
   "metadata": {
    "slideshow": {
     "slide_type": "slide"
    }
   },
   "source": [
    "# Ce qu'il faut retenir\n",
    "\n",
    "* La différence entre un **fait** et une **inférence**\n",
    "* Les décisions _projet_ et les tests AB se basent sur des inférences\n",
    "* On peut quantifier de degré de certitude des décisions basés sur des inférences\n",
    "* Une estimation est une fourchette de valeurs, pas une valeur\n",
    "* S'il y a des \\$\\$ en jeu, on **doit** quantifier le degré de certitude de ces décisions\n"
   ]
  },
  {
   "cell_type": "markdown",
   "metadata": {
    "slideshow": {
     "slide_type": "slide"
    }
   },
   "source": [
    "# Avec un peu plus de maths ...\n",
    "\n",
    "Moyennant quelques formules et repères méthodologiques, il est possible de :\n",
    "\n",
    "\n",
    "\n",
    "* Détecter des erreurs, et ne pas s'alarmer s'il n'y en n'a pas :\n",
    "  \n",
    "\n"
   ]
  },
  {
   "cell_type": "markdown",
   "metadata": {
    "slideshow": {
     "slide_type": "slide"
    }
   },
   "source": [
    "# Quantifier l'(in)certitude de nos décisions :\n",
    "\n",
    "- \"Je suis sûr à 80% que tel bouton A est meilleur que le B\"\n",
    "- \"Je suis sûr à 95% que le taux de conversion est entre 2% et 4%\n",
    "- \"Je suis sûr à 95% que le bouton C est le meilleur des boutons A,B,C,D,E\"\n",
    "- \"Si je dis que le bouton A est meilleur que le bouton B, quelle est la probabilité que je me trompe ?\""
   ]
  },
  {
   "cell_type": "markdown",
   "metadata": {
    "slideshow": {
     "slide_type": "slide"
    }
   },
   "source": [
    "# Détecter des erreurs, et ne pas s'alarmer s'il n'y en n'a pas :\n",
    "\n",
    "- Normalement, le bouton doit convertir à un taux entre 1% et 3%, 95% des fois. \n",
    "  \n",
    "  Si je mesure autre chose, il y a probablement quelque chose qui ne tourne pas rond.\n",
    "  \n",
    "  Sinon, il ne faut pas s'alarmer ..."
   ]
  },
  {
   "cell_type": "markdown",
   "metadata": {
    "slideshow": {
     "slide_type": "slide"
    }
   },
   "source": [
    "# Mieux plainifier nos tests :\n",
    "\n",
    "- \"Pour choisir entre A et B avec une certitude de 95%, je dois laisser courrir mon test pendant 2 semaines\""
   ]
  }
 ],
 "metadata": {
  "celltoolbar": "Slideshow",
  "kernelspec": {
   "display_name": "Python 3",
   "language": "python",
   "name": "python3"
  },
  "language_info": {
   "codemirror_mode": {
    "name": "ipython",
    "version": 3
   },
   "file_extension": ".py",
   "mimetype": "text/x-python",
   "name": "python",
   "nbconvert_exporter": "python",
   "pygments_lexer": "ipython3",
   "version": "3.4.3"
  }
 },
 "nbformat": 4,
 "nbformat_minor": 0
}
